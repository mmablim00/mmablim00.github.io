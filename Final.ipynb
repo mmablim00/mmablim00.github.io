{
 "cells": [
  {
   "cell_type": "code",
   "execution_count": 1,
   "metadata": {},
   "outputs": [
    {
     "name": "stdout",
     "output_type": "stream",
     "text": [
      "Collecting lxml\n",
      "  Downloading lxml-4.6.2-cp38-cp38-manylinux1_x86_64.whl (5.4 MB)\n",
      "\u001b[K     |████████████████████████████████| 5.4 MB 4.2 MB/s eta 0:00:01\n",
      "\u001b[?25hCollecting html5lib\n",
      "  Downloading html5lib-1.1-py2.py3-none-any.whl (112 kB)\n",
      "\u001b[K     |████████████████████████████████| 112 kB 13.4 MB/s eta 0:00:01\n",
      "\u001b[?25hRequirement already satisfied: six>=1.9 in /opt/conda/lib/python3.8/site-packages (from html5lib) (1.15.0)\n",
      "Requirement already satisfied: webencodings in /opt/conda/lib/python3.8/site-packages (from html5lib) (0.5.1)\n",
      "Installing collected packages: lxml, html5lib\n",
      "Successfully installed html5lib-1.1 lxml-4.6.2\n"
     ]
    }
   ],
   "source": [
    "import requests\n",
    "import pandas as pd\n",
    "\n",
    "from bs4 import BeautifulSoup\n",
    "\n",
    "import sys\n",
    "!{sys.executable} -m pip install lxml html5lib"
   ]
  },
  {
   "cell_type": "markdown",
   "metadata": {},
   "source": [
    "# Data Collection\n",
    "\n",
    "To acquire data, we will scrape the University of Maryland Police Department website: http://www.umpd.umd.edu/stats/incident_logs.cfm. Because the website organizes the data by year and month, we make multiple requests, then concatenate each month to make a dataframe for each year. Yearly data is then stored in a dictionary, with the year acting as the key. Because we are simply comparing crime between pre-quarantine and during quarantine, we will only use the data from 2019 to 2020."
   ]
  },
  {
   "cell_type": "code",
   "execution_count": 2,
   "metadata": {},
   "outputs": [
    {
     "data": {
      "text/html": [
       "<div>\n",
       "<style scoped>\n",
       "    .dataframe tbody tr th:only-of-type {\n",
       "        vertical-align: middle;\n",
       "    }\n",
       "\n",
       "    .dataframe tbody tr th {\n",
       "        vertical-align: top;\n",
       "    }\n",
       "\n",
       "    .dataframe thead th {\n",
       "        text-align: right;\n",
       "    }\n",
       "</style>\n",
       "<table border=\"1\" class=\"dataframe\">\n",
       "  <thead>\n",
       "    <tr style=\"text-align: right;\">\n",
       "      <th></th>\n",
       "      <th>UMPD CASENUMBER</th>\n",
       "      <th>OCCURRED DATE TIMELOCATION</th>\n",
       "      <th>REPORT DATE TIME</th>\n",
       "      <th>TYPE</th>\n",
       "      <th>DISPOSITION</th>\n",
       "      <th>Unnamed: 5</th>\n",
       "    </tr>\n",
       "  </thead>\n",
       "  <tbody>\n",
       "    <tr>\n",
       "      <th>0</th>\n",
       "      <td>2019-00000001</td>\n",
       "      <td>01/01/19 00:01</td>\n",
       "      <td>01/01/19 00:01</td>\n",
       "      <td>Fireworks Complaint</td>\n",
       "      <td>Arrest</td>\n",
       "      <td>NaN</td>\n",
       "    </tr>\n",
       "    <tr>\n",
       "      <th>1</th>\n",
       "      <td>2019-00000001</td>\n",
       "      <td>4300 block of Knox Rd</td>\n",
       "      <td>4300 block of Knox Rd</td>\n",
       "      <td>4300 block of Knox Rd</td>\n",
       "      <td>4300 block of Knox Rd</td>\n",
       "      <td>4300 block of Knox Rd</td>\n",
       "    </tr>\n",
       "    <tr>\n",
       "      <th>2</th>\n",
       "      <td>2019-00000009</td>\n",
       "      <td>01/01/19 01:20</td>\n",
       "      <td>01/01/19 01:20</td>\n",
       "      <td>DWI/DUI</td>\n",
       "      <td>Arrest</td>\n",
       "      <td>NaN</td>\n",
       "    </tr>\n",
       "    <tr>\n",
       "      <th>3</th>\n",
       "      <td>2019-00000009</td>\n",
       "      <td>8300 block of Baltimore Ave</td>\n",
       "      <td>8300 block of Baltimore Ave</td>\n",
       "      <td>8300 block of Baltimore Ave</td>\n",
       "      <td>8300 block of Baltimore Ave</td>\n",
       "      <td>8300 block of Baltimore Ave</td>\n",
       "    </tr>\n",
       "    <tr>\n",
       "      <th>4</th>\n",
       "      <td>2019-00000011</td>\n",
       "      <td>01/01/19 01:28</td>\n",
       "      <td>01/01/19 01:28</td>\n",
       "      <td>DWI/DUI</td>\n",
       "      <td>Arrest</td>\n",
       "      <td>NaN</td>\n",
       "    </tr>\n",
       "  </tbody>\n",
       "</table>\n",
       "</div>"
      ],
      "text/plain": [
       "  UMPD CASENUMBER   OCCURRED DATE TIMELOCATION             REPORT DATE TIME  \\\n",
       "0   2019-00000001               01/01/19 00:01               01/01/19 00:01   \n",
       "1   2019-00000001        4300 block of Knox Rd        4300 block of Knox Rd   \n",
       "2   2019-00000009               01/01/19 01:20               01/01/19 01:20   \n",
       "3   2019-00000009  8300 block of Baltimore Ave  8300 block of Baltimore Ave   \n",
       "4   2019-00000011               01/01/19 01:28               01/01/19 01:28   \n",
       "\n",
       "                          TYPE                  DISPOSITION  \\\n",
       "0          Fireworks Complaint                       Arrest   \n",
       "1        4300 block of Knox Rd        4300 block of Knox Rd   \n",
       "2                      DWI/DUI                       Arrest   \n",
       "3  8300 block of Baltimore Ave  8300 block of Baltimore Ave   \n",
       "4                      DWI/DUI                       Arrest   \n",
       "\n",
       "                    Unnamed: 5  \n",
       "0                          NaN  \n",
       "1        4300 block of Knox Rd  \n",
       "2                          NaN  \n",
       "3  8300 block of Baltimore Ave  \n",
       "4                          NaN  "
      ]
     },
     "execution_count": 2,
     "metadata": {},
     "output_type": "execute_result"
    }
   ],
   "source": [
    "years = ['2019','2020']\n",
    "\n",
    "#Dictionary that will hold the data\n",
    "data = {}\n",
    "\n",
    "#Loops for each year\n",
    "for year in years:\n",
    "    \n",
    "    #This will hold each yearly data set\n",
    "    df = pd.DataFrame()\n",
    "    \n",
    "    #Loops for each month\n",
    "    for m in range(1,13):\n",
    "        page = requests.get('http://www.umpd.umd.edu/stats/incident_logs.cfm?year='+year+\"&month=\"+str(m))\n",
    "        content = BeautifulSoup(page.content)\n",
    "        table = content.find('table')\n",
    "        t = pd.read_html(str(table))\n",
    "        d=pd.concat(t)\n",
    "        df = pd.concat([df,d])\n",
    "        \n",
    "    #adds the yearly data to the main dictionary\n",
    "    data[year] = df\n",
    "    \n",
    "data['2019'].head()"
   ]
  },
  {
   "cell_type": "markdown",
   "metadata": {},
   "source": [
    "# Data Processing"
   ]
  },
  {
   "cell_type": "code",
   "execution_count": null,
   "metadata": {},
   "outputs": [],
   "source": []
  }
 ],
 "metadata": {
  "kernelspec": {
   "display_name": "Python 3",
   "language": "python",
   "name": "python3"
  },
  "language_info": {
   "codemirror_mode": {
    "name": "ipython",
    "version": 3
   },
   "file_extension": ".py",
   "mimetype": "text/x-python",
   "name": "python",
   "nbconvert_exporter": "python",
   "pygments_lexer": "ipython3",
   "version": "3.8.5"
  }
 },
 "nbformat": 4,
 "nbformat_minor": 4
}
